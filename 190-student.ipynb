{
 "cells": [
  {
   "cell_type": "code",
   "execution_count": 1,
   "metadata": {},
   "outputs": [],
   "source": [
    "print(\"Name : \")"
   ]
  },
  {
   "cell_type": "code",
   "execution_count": 1,
   "metadata": {},
   "outputs": [],
   "source": [
    "#import the libraries\n",
    "import pandas as pd\n",
    "from matplotlib import pyplot as plt\n",
    "\n",
    "\n",
    "#Task 1\n",
    "#Read the bmi.csv\n",
    "bmi_df = pd.read_csv('bmi.csv')\n"
   ]
  },
  {
   "cell_type": "code",
   "execution_count": 5,
   "metadata": {},
   "outputs": [
    {
     "name": "stdout",
     "output_type": "stream",
     "text": [
      "   Unnamed: 0  Pregnancies  Glucose  BloodPressure  SkinThickness  Insulin  \\\n",
      "0         177            0      129            110             46      130   \n",
      "1         445            0      180             78             63       14   \n",
      "2         673            3      123            100             35      240   \n",
      "3         125            1       88             30             42       99   \n",
      "4         120            0      162             76             56      100   \n",
      "\n",
      "    BMI  DiabetesPedigreeFunction  Age  Outcome  \n",
      "0  67.1                     0.319   26        1  \n",
      "1  59.4                     2.420   25        1  \n",
      "2  57.3                     0.880   22        0  \n",
      "3  55.0                     0.496   26        1  \n",
      "4  53.2                     0.759   25        1  \n"
     ]
    },
    {
     "data": {
      "text/plain": [
       "<BarContainer object of 5 artists>"
      ]
     },
     "execution_count": 5,
     "metadata": {},
     "output_type": "execute_result"
    },
    {
     "data": {
      "image/png": "[encoded data removed]",
      "text/plain": [
       "<Figure size 432x288 with 1 Axes>"
      ]
     },
     "metadata": {
      "needs_background": "light"
     },
     "output_type": "display_data"
    }
   ],
   "source": [
    "#Task 2\n",
    "#Data is sorted in descending order in accordance with BMI value\n",
    "#Find the top 5 age group where the BMI value is the highest, and plot a bar graph out of it\n",
    "\n",
    "bmi_top_5 = bmi_df.head(5)\n",
    "print(bmi_top_5)\n",
    "name = bmi_top_5['Age']\n",
    "number = bmi_top_5['BMI']\n",
    "\n",
    "\n",
    "plt.xlabel(\"Age\")\n",
    "plt.xticks(rotation='vertical')\n",
    "plt.ylabel(\"BMI\")\n",
    "\n",
    "\n",
    "label = name\n",
    "value = number \n",
    "plt.bar(label, value,width=0.4, color=('red','blue','green','pink','yellow')) #bar-grap"
   ]
  },
  {
   "cell_type": "code",
   "execution_count": 4,
   "metadata": {},
   "outputs": [],
   "source": [
    "#Task 3\n",
    "#Read blood_pressure.csv\n",
    "blood_pressure_df = pd.read_csv('blood_pressure.csv')"
   ]
  },
  {
   "cell_type": "code",
   "execution_count": 7,
   "metadata": {},
   "outputs": [
    {
     "name": "stdout",
     "output_type": "stream",
     "text": [
      "   Unnamed: 0  Pregnancies  Glucose  BloodPressure  SkinThickness  Insulin  \\\n",
      "0         347            3      116              0              0        0   \n",
      "1         494            3       80              0              0        0   \n",
      "2         222            7      119              0              0        0   \n",
      "3          81            2       74              0              0        0   \n",
      "4          78            0      131              0              0        0   \n",
      "\n",
      "    BMI  DiabetesPedigreeFunction  Age  Outcome  \n",
      "0  23.5                     0.187   23        0  \n",
      "1   0.0                     0.174   22        0  \n",
      "2  25.2                     0.209   37        0  \n",
      "3   0.0                     0.102   22        0  \n",
      "4  43.2                     0.270   26        1  \n"
     ]
    },
    {
     "data": {
      "text/plain": [
       "<BarContainer object of 5 artists>"
      ]
     },
     "execution_count": 7,
     "metadata": {},
     "output_type": "execute_result"
    },
    {
     "data": {
      "image/png": "[encoded data removed]",
      "text/plain": [
       "<Figure size 432x288 with 1 Axes>"
      ]
     },
     "metadata": {
      "needs_background": "light"
     },
     "output_type": "display_data"
    }
   ],
   "source": [
    "#Task 4\n",
    "#Data is sorted in ascending order in accordance with Blood Pressure\n",
    "#Find the top 5 age group where the BloodPressure value is the highest, and plot a bar graph out of it\n",
    "import pandas as pd\n",
    "from matplotlib import pyplot as plt\n",
    "\n",
    "blood_pressure_df = pd.read_csv('blood_pressure.csv')\n",
    "\n",
    "BloodPressure_top_5 = blood_pressure_df.head(5)\n",
    "print(BloodPressure_top_5)\n",
    "name = BloodPressure_top_5['Age']\n",
    "number = BloodPressure_top_5['BMI']\n",
    "\n",
    "\n",
    "plt.xlabel('Age')\n",
    "plt.xticks(rotation='vertical')\n",
    "plt.ylabel('Blood Pressure')\n",
    "\n",
    "\n",
    "label = name\n",
    "value = number \n",
    "plt.bar(label, value,width=0.4, color=('red','blue','green','pink','yellow')) #bar-grap\n"
   ]
  },
  {
   "cell_type": "code",
   "execution_count": null,
   "metadata": {},
   "outputs": [],
   "source": []
  },
  {
   "cell_type": "code",
   "execution_count": 10,
   "metadata": {},
   "outputs": [
    {
     "name": "stdout",
     "output_type": "stream",
     "text": [
      "   Unnamed: 0  Pregnancies  Glucose  BloodPressure  SkinThickness  Insulin  \\\n",
      "0          13            1      189             60             23      846   \n",
      "1         228            4      197             70             39      744   \n",
      "2         247            0      165             90             33      680   \n",
      "3         584            8      124             76             24      600   \n",
      "4         409            1      172             68             49      579   \n",
      "\n",
      "    BMI  DiabetesPedigreeFunction  Age  Outcome  \n",
      "0  30.1                     0.398   59        1  \n",
      "1  36.7                     2.329   31        0  \n",
      "2  52.3                     0.427   23        0  \n",
      "3  28.7                     0.687   52        1  \n",
      "4  42.4                     0.702   28        1  \n"
     ]
    },
    {
     "data": {
      "text/plain": [
       "<BarContainer object of 5 artists>"
      ]
     },
     "execution_count": 10,
     "metadata": {},
     "output_type": "execute_result"
    },
    {
     "data": {
      "image/png": "[encoded data removed]",
      "text/plain": [
       "<Figure size 432x288 with 1 Axes>"
      ]
     },
     "metadata": {
      "needs_background": "light"
     },
     "output_type": "display_data"
    }
   ],
   "source": [
    "#Task 6\n",
    "#Data is sorted in descending order in accordance with Insulin value\n",
    "#Find out what will be the Glucose and BMI value when the Insulin is highest\n",
    "import pandas as pd\n",
    "from matplotlib import pyplot as plt\n",
    "\n",
    "\n",
    "insulin_df = pd.read_csv('insulin.csv')\n",
    "\n",
    "top_1 = insulin_df.head(5)\n",
    "print(top_1)\n",
    "name = top_1['Glucose']\n",
    "number = top_1['BMI']\n",
    "\n",
    "\n",
    "plt.xlabel(\"When Insulin is the highest, Glucose is: \")\n",
    "plt.xticks(rotation='vertical')\n",
    "plt.ylabel(\"When Insulin is the highest BMI value is: \")\n",
    "\n",
    "\n",
    "label = name\n",
    "value = number \n",
    "plt.bar(label, value,width=0.4, color=('red','blue','green','pink','yellow')) #bar-grap\n"
   ]
  },
  {
   "cell_type": "code",
   "execution_count": null,
   "metadata": {},
   "outputs": [],
   "source": []
  },
  {
   "cell_type": "code",
   "execution_count": null,
   "metadata": {},
   "outputs": [],
   "source": []
  },
  {
   "cell_type": "code",
   "execution_count": null,
   "metadata": {},
   "outputs": [],
   "source": []
  }
 ],
 "metadata": {
  "kernelspec": {
   "display_name": "Python 3",
   "language": "python",
   "name": "python3"
  },
  "language_info": {
   "codemirror_mode": {
    "name": "ipython",
    "version": 3
   },
   "file_extension": ".py",
   "mimetype": "text/x-python",
   "name": "python",
   "nbconvert_exporter": "python",
   "pygments_lexer": "ipython3",
   "version": "3.8.8"
  }
 },
 "nbformat": 4,
 "nbformat_minor": 4
}
